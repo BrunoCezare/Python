{
 "cells": [
  {
   "cell_type": "code",
   "execution_count": 2,
   "metadata": {},
   "outputs": [],
   "source": [
    "import crcmod\n",
    "import qrcode"
   ]
  },
  {
   "cell_type": "code",
   "execution_count": 11,
   "metadata": {},
   "outputs": [
    {
     "name": "stdout",
     "output_type": "stream",
     "text": [
      "00020126420014BR.GOV.BCB.PIX0120bbcezare@hotmail.com52040000530398654040.005802BR5912Daniel Alves6009Catanduva62110507c6-bank6304\n",
      "\n",
      "00020126420014BR.GOV.BCB.PIX0120bbcezare@hotmail.com52040000530398654040.005802BR5912Daniel Alves6009Catanduva62110507c6-bank63046DD7\n"
     ]
    }
   ],
   "source": [
    "class Payload():\n",
    "    def __init__(self, nome, chavepix, valor, cidade, txtId):\n",
    "        self.nome = nome\n",
    "        self.chavepix = chavepix\n",
    "        self.valor = valor\n",
    "        self.cidade = cidade\n",
    "        self.txtId = txtId\n",
    "\n",
    "        self.nome_tam = len(self.nome)\n",
    "        self.chavepix_tam = len(self.chavepix)\n",
    "        self.valor_tam = len(self.valor)\n",
    "        self.cidade_tam = len(self.cidade)\n",
    "        self.txtId_tam = len(self.txtId)\n",
    "\n",
    "        self.merchantaccount_tam = f'0014BR.GOV.BCB.PIX01{self.chavepix_tam}{self.chavepix}'\n",
    "        \n",
    "        self.payloadformat = '000201'\n",
    "\n",
    "        self.merchantaccount = f'26{len(self.merchantaccount_tam)}{self.merchantaccount_tam}'\n",
    "\n",
    "        if self.valor_tam <=9:\n",
    "            self.transactionamount_tam = f'0{self.valor_tam}{self.valor}'\n",
    "        else:\n",
    "            self.transactionamount_tam = f'{self.valor_tam}{self.valor}'\n",
    "\n",
    "        if self.txtId_tam <=9:\n",
    "            self.adddatafild_tam = f'050{self.txtId_tam}{self.txtId}'\n",
    "        else:\n",
    "            self.adddatafild_tam = f'05{self.txtId_tam}{self.txtId}'\n",
    "\n",
    "        if self.nome_tam <=9:\n",
    "            self.nome_tam = f'0{self.nome_tam}'\n",
    "              \n",
    "        if self.cidade_tam <=9:\n",
    "            self.cidade_tam = f'0{self.cidade_tam}'\n",
    "           \n",
    "        self.merchantcate = '52040000'\n",
    "\n",
    "        self.transactioncurency = '5303986'\n",
    "\n",
    "        self.transactionamount = f'54{self.transactionamount_tam}'\n",
    "\n",
    "        self.countrycode = '5802BR'\n",
    "\n",
    "        self.merchantname = f'59{self.nome_tam}{self.nome}'\n",
    "     \n",
    "        self.merchantcity = f'60{self.cidade_tam}{self.cidade}'\n",
    "\n",
    "        self.adddatafild = f'62{len(self.adddatafild_tam)}{self.adddatafild_tam}'\n",
    "\n",
    "        self.crc16 = '6304'\n",
    "\n",
    "\n",
    "    def gerarPayload(self):\n",
    "        self.payload = f'{self.payloadformat}{self.merchantaccount}{self.merchantcate}{self.transactioncurency}{self.transactionamount}{self.countrycode}{self.merchantname}{self.merchantcity}{self.adddatafild}{self.crc16}'\n",
    "            \n",
    "        print(self.payload)\n",
    "\n",
    "        self.gerarcrc16(self.payload)\n",
    "\n",
    "    def gerarcrc16(self, payload):\n",
    "        crc16 = crcmod.mkCrcFun(poly=0x11021, initCrc=0xFFFF, rev=False, xorOut=0x0000)\n",
    "\n",
    "        self.crc16code = hex(crc16(str(payload).encode('utf-8')))\n",
    "\n",
    "        self.crc16code_formatado = str(self.crc16code).replace('0x','').upper()\n",
    "\n",
    "        self.payload_completa = f'{payload}{self.crc16code_formatado}'\n",
    "    \n",
    "        print()\n",
    "        print(self.payload_completa)\n",
    "\n",
    "        self.gerarqrcode(self.payload_completa)\n",
    "\n",
    "    def gerarqrcode(self, payload):\n",
    "        self.qrcode = qrcode.make(payload)\n",
    "        self.qrcode.save('pixqrcodegen.png')\n",
    "\n",
    "\n",
    "if __name__ == '__main__':\n",
    "    p = Payload('Daniel Alves','bbcezare@hotmail.com','0.00','Catanduva','c6-bank')\n",
    "    p.gerarPayload()"
   ]
  },
  {
   "cell_type": "code",
   "execution_count": null,
   "metadata": {},
   "outputs": [],
   "source": []
  }
 ],
 "metadata": {
  "kernelspec": {
   "display_name": "base",
   "language": "python",
   "name": "python3"
  },
  "language_info": {
   "codemirror_mode": {
    "name": "ipython",
    "version": 3
   },
   "file_extension": ".py",
   "mimetype": "text/x-python",
   "name": "python",
   "nbconvert_exporter": "python",
   "pygments_lexer": "ipython3",
   "version": "3.9.13"
  },
  "orig_nbformat": 4
 },
 "nbformat": 4,
 "nbformat_minor": 2
}
